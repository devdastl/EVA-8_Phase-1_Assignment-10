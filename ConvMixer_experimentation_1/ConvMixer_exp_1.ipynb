{
  "cells": [
    {
      "attachments": {},
      "cell_type": "markdown",
      "metadata": {},
      "source": [
        "[![Open In Colab](https://colab.research.google.com/assets/colab-badge.svg)](https://githubtocolab.com/devdastl/EVA-8_Phase-1_Assignment-1)"
      ]
    },
    {
      "cell_type": "code",
      "execution_count": null,
      "metadata": {
        "colab": {
          "base_uri": "https://localhost:8080/"
        },
        "id": "r0Lqe998nAJA",
        "outputId": "406257f4-a8e3-432e-a43d-60507f93b043"
      },
      "outputs": [
        {
          "name": "stdout",
          "output_type": "stream",
          "text": [
            "fatal: destination path 'eva8_source' already exists and is not an empty directory.\n"
          ]
        }
      ],
      "source": [
        "import os\n",
        "!git clone https://github.com/devdastl/eva8_source.git\n",
        "os.chdir('eva8_source')"
      ]
    },
    {
      "cell_type": "code",
      "execution_count": null,
      "metadata": {
        "colab": {
          "base_uri": "https://localhost:8080/"
        },
        "id": "312aepKwnNsN",
        "outputId": "d77e29da-5709-46cd-c10c-9e80ceb0a924"
      },
      "outputs": [
        {
          "name": "stdout",
          "output_type": "stream",
          "text": [
            "Files already downloaded and verified\n",
            "Files already downloaded and verified\n"
          ]
        },
        {
          "name": "stderr",
          "output_type": "stream",
          "text": [
            "/usr/local/lib/python3.8/dist-packages/torch/utils/data/dataloader.py:554: UserWarning: This DataLoader will create 4 worker processes in total. Our suggested max number of worker in current system is 2, which is smaller than what this DataLoader is going to create. Please be aware that excessive worker creation might get DataLoader running slow or even freeze, lower the worker number to avoid potential slowness/freeze if necessary.\n",
            "  warnings.warn(_create_warning_msg(\n"
          ]
        }
      ],
      "source": [
        "import torch\n",
        "import torch.nn\n",
        "import copy\n",
        "import torch.optim as optim\n",
        "from dataset.data import DataLoader\n",
        "my_loader= DataLoader(dataset_name='CIFAR10', batch_size=512)\n",
        "\n",
        "train_loader, test_loader = my_loader.get_loader()"
      ]
    },
    {
      "cell_type": "code",
      "execution_count": null,
      "metadata": {
        "id": "5C0jK1gznPtd"
      },
      "outputs": [],
      "source": [
        "import torch.nn as nn\n",
        "\n",
        "class residual(nn.Module):\n",
        "    def __init__(self, res_block):\n",
        "        super().__init__()\n",
        "        self.res_block = res_block\n",
        "\n",
        "    def forward(self, x):\n",
        "        return self.res_block(x) + x\n",
        "\n",
        "class MixerModel():\n",
        "    def __init__(self, dim, depth, kernel_size=5, patch_size=2, n_classes=10):\n",
        "        self.depth = depth\n",
        "        self.dim = dim\n",
        "        self.kernel_size = kernel_size\n",
        "        self.patch_size = patch_size\n",
        "        self.n_classes = n_classes\n",
        "\n",
        "    def depth_wise(self):\n",
        "        return nn.Sequential(\n",
        "            nn.Conv2d(self.dim, self.dim, kernel_size=self.kernel_size, groups=self.dim, padding=\"same\"),\n",
        "            nn.GELU(),\n",
        "            nn.BatchNorm2d(self.dim)\n",
        "        )\n",
        "    def point_wise(self):\n",
        "        return nn.Sequential(\n",
        "            nn.Conv2d(self.dim, self.dim, kernel_size=1),\n",
        "            nn.GELU(),\n",
        "            nn.BatchNorm2d(self.dim)\n",
        "        )\n",
        "\n",
        "    def get_model(self):\n",
        "        embedding_prep = nn.Sequential(\n",
        "            nn.Conv2d(3, self.dim, kernel_size=self.patch_size, stride=self.patch_size),\n",
        "            nn.GELU(),\n",
        "            nn.BatchNorm2d(self.dim)\n",
        "        )\n",
        "\n",
        "        depth_wise = nn.Sequential(\n",
        "            nn.Conv2d(self.dim, self.dim, kernel_size=self.kernel_size, groups=self.dim, padding=\"same\"),\n",
        "            nn.GELU(),\n",
        "            nn.BatchNorm2d(self.dim)\n",
        "        )   \n",
        "\n",
        "        point_wise =  nn.Sequential(\n",
        "            nn.Conv2d(self.dim, self.dim, kernel_size=1),\n",
        "            nn.GELU(),\n",
        "            nn.BatchNorm2d(self.dim)\n",
        "        )\n",
        "\n",
        "        mixer_block = [nn.Sequential(\n",
        "            residual(self.depth_wise()),\n",
        "            self.point_wise()\n",
        "        ) for i in range(self.depth)]\n",
        "\n",
        "        model = nn.Sequential(\n",
        "            embedding_prep,\n",
        "            *mixer_block,\n",
        "            nn.AdaptiveAvgPool2d((1,1)),\n",
        "            nn.Flatten(),\n",
        "            nn.Linear(self.dim, self.n_classes)\n",
        "        )\n",
        "\n",
        "        return model\n"
      ]
    },
    {
      "cell_type": "code",
      "execution_count": null,
      "metadata": {
        "colab": {
          "base_uri": "https://localhost:8080/"
        },
        "id": "zsV8Zfd2nUPo",
        "outputId": "4f0d0457-9da3-483c-9a67-568d9779e784"
      },
      "outputs": [
        {
          "name": "stdout",
          "output_type": "stream",
          "text": [
            "cuda\n",
            "----------------------------------------------------------------\n",
            "        Layer (type)               Output Shape         Param #\n",
            "================================================================\n",
            "            Conv2d-1          [-1, 256, 16, 16]           3,328\n",
            "              GELU-2          [-1, 256, 16, 16]               0\n",
            "       BatchNorm2d-3          [-1, 256, 16, 16]             512\n",
            "            Conv2d-4          [-1, 256, 16, 16]           6,656\n",
            "              GELU-5          [-1, 256, 16, 16]               0\n",
            "       BatchNorm2d-6          [-1, 256, 16, 16]             512\n",
            "          residual-7          [-1, 256, 16, 16]               0\n",
            "            Conv2d-8          [-1, 256, 16, 16]          65,792\n",
            "              GELU-9          [-1, 256, 16, 16]               0\n",
            "      BatchNorm2d-10          [-1, 256, 16, 16]             512\n",
            "           Conv2d-11          [-1, 256, 16, 16]           6,656\n",
            "             GELU-12          [-1, 256, 16, 16]               0\n",
            "      BatchNorm2d-13          [-1, 256, 16, 16]             512\n",
            "         residual-14          [-1, 256, 16, 16]               0\n",
            "           Conv2d-15          [-1, 256, 16, 16]          65,792\n",
            "             GELU-16          [-1, 256, 16, 16]               0\n",
            "      BatchNorm2d-17          [-1, 256, 16, 16]             512\n",
            "           Conv2d-18          [-1, 256, 16, 16]           6,656\n",
            "             GELU-19          [-1, 256, 16, 16]               0\n",
            "      BatchNorm2d-20          [-1, 256, 16, 16]             512\n",
            "         residual-21          [-1, 256, 16, 16]               0\n",
            "           Conv2d-22          [-1, 256, 16, 16]          65,792\n",
            "             GELU-23          [-1, 256, 16, 16]               0\n",
            "      BatchNorm2d-24          [-1, 256, 16, 16]             512\n",
            "           Conv2d-25          [-1, 256, 16, 16]           6,656\n",
            "             GELU-26          [-1, 256, 16, 16]               0\n",
            "      BatchNorm2d-27          [-1, 256, 16, 16]             512\n",
            "         residual-28          [-1, 256, 16, 16]               0\n",
            "           Conv2d-29          [-1, 256, 16, 16]          65,792\n",
            "             GELU-30          [-1, 256, 16, 16]               0\n",
            "      BatchNorm2d-31          [-1, 256, 16, 16]             512\n",
            "           Conv2d-32          [-1, 256, 16, 16]           6,656\n",
            "             GELU-33          [-1, 256, 16, 16]               0\n",
            "      BatchNorm2d-34          [-1, 256, 16, 16]             512\n",
            "         residual-35          [-1, 256, 16, 16]               0\n",
            "           Conv2d-36          [-1, 256, 16, 16]          65,792\n",
            "             GELU-37          [-1, 256, 16, 16]               0\n",
            "      BatchNorm2d-38          [-1, 256, 16, 16]             512\n",
            "           Conv2d-39          [-1, 256, 16, 16]           6,656\n",
            "             GELU-40          [-1, 256, 16, 16]               0\n",
            "      BatchNorm2d-41          [-1, 256, 16, 16]             512\n",
            "         residual-42          [-1, 256, 16, 16]               0\n",
            "           Conv2d-43          [-1, 256, 16, 16]          65,792\n",
            "             GELU-44          [-1, 256, 16, 16]               0\n",
            "      BatchNorm2d-45          [-1, 256, 16, 16]             512\n",
            "           Conv2d-46          [-1, 256, 16, 16]           6,656\n",
            "             GELU-47          [-1, 256, 16, 16]               0\n",
            "      BatchNorm2d-48          [-1, 256, 16, 16]             512\n",
            "         residual-49          [-1, 256, 16, 16]               0\n",
            "           Conv2d-50          [-1, 256, 16, 16]          65,792\n",
            "             GELU-51          [-1, 256, 16, 16]               0\n",
            "      BatchNorm2d-52          [-1, 256, 16, 16]             512\n",
            "           Conv2d-53          [-1, 256, 16, 16]           6,656\n",
            "             GELU-54          [-1, 256, 16, 16]               0\n",
            "      BatchNorm2d-55          [-1, 256, 16, 16]             512\n",
            "         residual-56          [-1, 256, 16, 16]               0\n",
            "           Conv2d-57          [-1, 256, 16, 16]          65,792\n",
            "             GELU-58          [-1, 256, 16, 16]               0\n",
            "      BatchNorm2d-59          [-1, 256, 16, 16]             512\n",
            "           Conv2d-60          [-1, 256, 16, 16]           6,656\n",
            "             GELU-61          [-1, 256, 16, 16]               0\n",
            "      BatchNorm2d-62          [-1, 256, 16, 16]             512\n",
            "         residual-63          [-1, 256, 16, 16]               0\n",
            "           Conv2d-64          [-1, 256, 16, 16]          65,792\n",
            "             GELU-65          [-1, 256, 16, 16]               0\n",
            "      BatchNorm2d-66          [-1, 256, 16, 16]             512\n",
            "           Conv2d-67          [-1, 256, 16, 16]           6,656\n",
            "             GELU-68          [-1, 256, 16, 16]               0\n",
            "      BatchNorm2d-69          [-1, 256, 16, 16]             512\n",
            "         residual-70          [-1, 256, 16, 16]               0\n",
            "           Conv2d-71          [-1, 256, 16, 16]          65,792\n",
            "             GELU-72          [-1, 256, 16, 16]               0\n",
            "      BatchNorm2d-73          [-1, 256, 16, 16]             512\n",
            "AdaptiveAvgPool2d-74            [-1, 256, 1, 1]               0\n",
            "          Flatten-75                  [-1, 256]               0\n",
            "           Linear-76                   [-1, 10]           2,570\n",
            "================================================================\n",
            "Total params: 741,130\n",
            "Trainable params: 741,130\n",
            "Non-trainable params: 0\n",
            "----------------------------------------------------------------\n",
            "Input size (MB): 0.01\n",
            "Forward/backward pass size (MB): 36.50\n",
            "Params size (MB): 2.83\n",
            "Estimated Total Size (MB): 39.34\n",
            "----------------------------------------------------------------\n"
          ]
        }
      ],
      "source": [
        "from torchsummary import summary\n",
        "\n",
        "use_cuda = torch.cuda.is_available()\n",
        "device = torch.device(\"cuda\" if use_cuda else \"cpu\")\n",
        "print(device)\n",
        "depth = 10\n",
        "hdim = 256\n",
        "psize = 2\n",
        "conv_ks = 5\n",
        "clip_norm = True\n",
        "\n",
        "model = MixerModel(hdim, depth, patch_size=psize, kernel_size=conv_ks, n_classes=10).get_model()\n",
        "\n",
        "\n",
        "summary(model.to(device), input_size=(3, 32, 32))"
      ]
    },
    {
      "cell_type": "code",
      "execution_count": null,
      "metadata": {
        "colab": {
          "base_uri": "https://localhost:8080/"
        },
        "id": "gCHwi19enbs5",
        "outputId": "b03142cc-a91f-4a09-9ee5-ddc1851a3f06"
      },
      "outputs": [
        {
          "name": "stdout",
          "output_type": "stream",
          "text": [
            "Looking in indexes: https://pypi.org/simple, https://us-python.pkg.dev/colab-wheels/public/simple/\n",
            "Requirement already satisfied: albumentations in /usr/local/lib/python3.8/dist-packages (from -r requirements.txt (line 1)) (1.2.1)\n",
            "Requirement already satisfied: grad-cam in /usr/local/lib/python3.8/dist-packages (from -r requirements.txt (line 2)) (1.4.6)\n",
            "Requirement already satisfied: opencv-python in /usr/local/lib/python3.8/dist-packages (from -r requirements.txt (line 3)) (4.6.0.66)\n",
            "Requirement already satisfied: torchsummary in /usr/local/lib/python3.8/dist-packages (from -r requirements.txt (line 4)) (1.5.1)\n",
            "Requirement already satisfied: torch_lr_finder in /usr/local/lib/python3.8/dist-packages (from -r requirements.txt (line 5)) (0.2.1)\n",
            "Requirement already satisfied: qudida>=0.0.4 in /usr/local/lib/python3.8/dist-packages (from albumentations->-r requirements.txt (line 1)) (0.0.4)\n",
            "Requirement already satisfied: numpy>=1.11.1 in /usr/local/lib/python3.8/dist-packages (from albumentations->-r requirements.txt (line 1)) (1.22.4)\n",
            "Requirement already satisfied: scipy in /usr/local/lib/python3.8/dist-packages (from albumentations->-r requirements.txt (line 1)) (1.7.3)\n",
            "Requirement already satisfied: opencv-python-headless>=4.1.1 in /usr/local/lib/python3.8/dist-packages (from albumentations->-r requirements.txt (line 1)) (4.7.0.72)\n",
            "Requirement already satisfied: scikit-image>=0.16.1 in /usr/local/lib/python3.8/dist-packages (from albumentations->-r requirements.txt (line 1)) (0.18.3)\n",
            "Requirement already satisfied: PyYAML in /usr/local/lib/python3.8/dist-packages (from albumentations->-r requirements.txt (line 1)) (6.0)\n",
            "Requirement already satisfied: scikit-learn in /usr/local/lib/python3.8/dist-packages (from grad-cam->-r requirements.txt (line 2)) (1.0.2)\n",
            "Requirement already satisfied: torchvision>=0.8.2 in /usr/local/lib/python3.8/dist-packages (from grad-cam->-r requirements.txt (line 2)) (0.14.1+cu116)\n",
            "Requirement already satisfied: matplotlib in /usr/local/lib/python3.8/dist-packages (from grad-cam->-r requirements.txt (line 2)) (3.5.3)\n",
            "Requirement already satisfied: tqdm in /usr/local/lib/python3.8/dist-packages (from grad-cam->-r requirements.txt (line 2)) (4.64.1)\n",
            "Requirement already satisfied: ttach in /usr/local/lib/python3.8/dist-packages (from grad-cam->-r requirements.txt (line 2)) (0.0.3)\n",
            "Requirement already satisfied: Pillow in /usr/local/lib/python3.8/dist-packages (from grad-cam->-r requirements.txt (line 2)) (8.4.0)\n",
            "Requirement already satisfied: torch>=1.7.1 in /usr/local/lib/python3.8/dist-packages (from grad-cam->-r requirements.txt (line 2)) (1.13.1+cu116)\n",
            "Requirement already satisfied: packaging in /usr/local/lib/python3.8/dist-packages (from torch_lr_finder->-r requirements.txt (line 5)) (23.0)\n",
            "Requirement already satisfied: typing-extensions in /usr/local/lib/python3.8/dist-packages (from qudida>=0.0.4->albumentations->-r requirements.txt (line 1)) (4.5.0)\n",
            "Requirement already satisfied: tifffile>=2019.7.26 in /usr/local/lib/python3.8/dist-packages (from scikit-image>=0.16.1->albumentations->-r requirements.txt (line 1)) (2023.2.3)\n",
            "Requirement already satisfied: PyWavelets>=1.1.1 in /usr/local/lib/python3.8/dist-packages (from scikit-image>=0.16.1->albumentations->-r requirements.txt (line 1)) (1.4.1)\n",
            "Requirement already satisfied: networkx>=2.0 in /usr/local/lib/python3.8/dist-packages (from scikit-image>=0.16.1->albumentations->-r requirements.txt (line 1)) (3.0)\n",
            "Requirement already satisfied: imageio>=2.3.0 in /usr/local/lib/python3.8/dist-packages (from scikit-image>=0.16.1->albumentations->-r requirements.txt (line 1)) (2.9.0)\n",
            "Requirement already satisfied: fonttools>=4.22.0 in /usr/local/lib/python3.8/dist-packages (from matplotlib->grad-cam->-r requirements.txt (line 2)) (4.38.0)\n",
            "Requirement already satisfied: pyparsing>=2.2.1 in /usr/local/lib/python3.8/dist-packages (from matplotlib->grad-cam->-r requirements.txt (line 2)) (3.0.9)\n",
            "Requirement already satisfied: kiwisolver>=1.0.1 in /usr/local/lib/python3.8/dist-packages (from matplotlib->grad-cam->-r requirements.txt (line 2)) (1.4.4)\n",
            "Requirement already satisfied: python-dateutil>=2.7 in /usr/local/lib/python3.8/dist-packages (from matplotlib->grad-cam->-r requirements.txt (line 2)) (2.8.2)\n",
            "Requirement already satisfied: cycler>=0.10 in /usr/local/lib/python3.8/dist-packages (from matplotlib->grad-cam->-r requirements.txt (line 2)) (0.11.0)\n",
            "Requirement already satisfied: threadpoolctl>=2.0.0 in /usr/local/lib/python3.8/dist-packages (from scikit-learn->grad-cam->-r requirements.txt (line 2)) (3.1.0)\n",
            "Requirement already satisfied: joblib>=0.11 in /usr/local/lib/python3.8/dist-packages (from scikit-learn->grad-cam->-r requirements.txt (line 2)) (1.2.0)\n",
            "Requirement already satisfied: requests in /usr/local/lib/python3.8/dist-packages (from torchvision>=0.8.2->grad-cam->-r requirements.txt (line 2)) (2.25.1)\n",
            "Requirement already satisfied: six>=1.5 in /usr/local/lib/python3.8/dist-packages (from python-dateutil>=2.7->matplotlib->grad-cam->-r requirements.txt (line 2)) (1.15.0)\n",
            "Requirement already satisfied: chardet<5,>=3.0.2 in /usr/local/lib/python3.8/dist-packages (from requests->torchvision>=0.8.2->grad-cam->-r requirements.txt (line 2)) (4.0.0)\n",
            "Requirement already satisfied: certifi>=2017.4.17 in /usr/local/lib/python3.8/dist-packages (from requests->torchvision>=0.8.2->grad-cam->-r requirements.txt (line 2)) (2022.12.7)\n",
            "Requirement already satisfied: urllib3<1.27,>=1.21.1 in /usr/local/lib/python3.8/dist-packages (from requests->torchvision>=0.8.2->grad-cam->-r requirements.txt (line 2)) (1.26.14)\n",
            "Requirement already satisfied: idna<3,>=2.5 in /usr/local/lib/python3.8/dist-packages (from requests->torchvision>=0.8.2->grad-cam->-r requirements.txt (line 2)) (2.10)\n"
          ]
        }
      ],
      "source": [
        "!python -m pip install -r requirements.txt"
      ]
    },
    {
      "cell_type": "code",
      "execution_count": null,
      "metadata": {
        "id": "d2-E8bEKngR7"
      },
      "outputs": [],
      "source": [
        "from main import ModelExecuter\n",
        "import copy\n",
        "import torch.optim as optim\n",
        "\n",
        "start_lr = 1e-6\n",
        "end_lr = 0.1\n",
        "\n",
        "net = MixerModel(hdim, depth, patch_size=psize, kernel_size=conv_ks, n_classes=10).get_model().to(device)\n",
        "\n",
        "criterion = torch.nn.CrossEntropyLoss()\n",
        "\n",
        "executer_instance = ModelExecuter(criterion=criterion, device='cuda', \n",
        "                                  train_loader=train_loader, test_loader=test_loader)"
      ]
    },
    {
      "cell_type": "code",
      "execution_count": null,
      "metadata": {
        "colab": {
          "base_uri": "https://localhost:8080/",
          "height": 388,
          "referenced_widgets": [
            "c72006d6b72a41fbb8beb92fee0b9182",
            "85e8c1cec6bf4e81ba1f3f64bf9575ec",
            "515607228e674415ab2f7c4c3a96c8ce",
            "6a92e598b5a04377ba9d08fe1260c432",
            "c4511320af484693bcf8438ee81aa495",
            "78c213b0a7b2407784801980ee83ce03",
            "4c74120d8e2045259fdda1367f6a2d70",
            "93b5bead5b8e47e68c97c46cf400bf28",
            "f3e9c50e5c00459d88aa722af922f3c4",
            "49d1691513df41c1a5cb44cd07306b26",
            "63219dd57561436db0a38b65fa1604e5"
          ]
        },
        "id": "EH2rVWdEnkt6",
        "outputId": "389dbcdf-bb15-4bc7-bd9b-4f3dda8309d3"
      },
      "outputs": [
        {
          "data": {
            "application/vnd.jupyter.widget-view+json": {
              "model_id": "c72006d6b72a41fbb8beb92fee0b9182",
              "version_major": 2,
              "version_minor": 0
            },
            "text/plain": [
              "  0%|          | 0/100 [00:00<?, ?it/s]"
            ]
          },
          "metadata": {},
          "output_type": "display_data"
        },
        {
          "name": "stdout",
          "output_type": "stream",
          "text": [
            "Learning rate search finished. See the graph with {finder_name}.plot()\n",
            "Min Loss = 1.911323412715004, Max LR = 0.1\n",
            "LR suggestion: steepest gradient\n",
            "Suggested LR: 3.94E-02\n"
          ]
        },
        {
          "data": {
            "image/png": "[encoded data removed]",
            "text/plain": [
              "<Figure size 432x288 with 1 Axes>"
            ]
          },
          "metadata": {
            "needs_background": "light"
          },
          "output_type": "display_data"
        }
      ],
      "source": [
        "net_exp = copy.deepcopy(net)\n",
        "optimizer_exp = optim.SGD(net_exp.parameters(), lr=start_lr, momentum=0.90, weight_decay=0.005)\n",
        "\n",
        "min_loss, max_lr= executer_instance.find_lr(net_exp, optimizer_exp, end_lr=end_lr, num_iter=100, step_mode='exp')"
      ]
    },
    {
      "cell_type": "code",
      "execution_count": null,
      "metadata": {
        "colab": {
          "base_uri": "https://localhost:8080/"
        },
        "id": "2rOU0JvOnmcj",
        "outputId": "b8daad40-a4fd-417c-f74d-8b962eba1ac5"
      },
      "outputs": [
        {
          "name": "stdout",
          "output_type": "stream",
          "text": [
            "EPOCH: 1\n"
          ]
        },
        {
          "name": "stderr",
          "output_type": "stream",
          "text": [
            "Loss=1.4373283386230469 Batch_id=97 Accuracy=36.79: 100%|██████████| 98/98 [00:58<00:00,  1.68it/s]\n"
          ]
        },
        {
          "name": "stdout",
          "output_type": "stream",
          "text": [
            "\n",
            "Test set: Average loss: 0.0030, Accuracy: 4585/10000 (45.85%)\n",
            "\n",
            "EPOCH: 2\n"
          ]
        },
        {
          "name": "stderr",
          "output_type": "stream",
          "text": [
            "Loss=1.182661771774292 Batch_id=97 Accuracy=53.49: 100%|██████████| 98/98 [00:59<00:00,  1.64it/s]\n"
          ]
        },
        {
          "name": "stdout",
          "output_type": "stream",
          "text": [
            "\n",
            "Test set: Average loss: 0.0028, Accuracy: 4898/10000 (48.98%)\n",
            "\n",
            "EPOCH: 3\n"
          ]
        },
        {
          "name": "stderr",
          "output_type": "stream",
          "text": [
            "Loss=1.042649269104004 Batch_id=97 Accuracy=59.56: 100%|██████████| 98/98 [00:59<00:00,  1.65it/s]\n"
          ]
        },
        {
          "name": "stdout",
          "output_type": "stream",
          "text": [
            "\n",
            "Test set: Average loss: 0.0025, Accuracy: 5599/10000 (55.99%)\n",
            "\n",
            "EPOCH: 4\n"
          ]
        },
        {
          "name": "stderr",
          "output_type": "stream",
          "text": [
            "Loss=1.147926926612854 Batch_id=97 Accuracy=62.62: 100%|██████████| 98/98 [00:59<00:00,  1.65it/s]\n"
          ]
        },
        {
          "name": "stdout",
          "output_type": "stream",
          "text": [
            "\n",
            "Test set: Average loss: 0.0024, Accuracy: 5785/10000 (57.85%)\n",
            "\n",
            "EPOCH: 5\n"
          ]
        },
        {
          "name": "stderr",
          "output_type": "stream",
          "text": [
            "Loss=0.9772413372993469 Batch_id=97 Accuracy=64.11: 100%|██████████| 98/98 [00:59<00:00,  1.66it/s]\n"
          ]
        },
        {
          "name": "stdout",
          "output_type": "stream",
          "text": [
            "\n",
            "Test set: Average loss: 0.0022, Accuracy: 6386/10000 (63.86%)\n",
            "\n",
            "EPOCH: 6\n"
          ]
        },
        {
          "name": "stderr",
          "output_type": "stream",
          "text": [
            "Loss=0.9716292023658752 Batch_id=97 Accuracy=65.54: 100%|██████████| 98/98 [00:59<00:00,  1.65it/s]\n"
          ]
        },
        {
          "name": "stdout",
          "output_type": "stream",
          "text": [
            "\n",
            "Test set: Average loss: 0.0027, Accuracy: 5175/10000 (51.75%)\n",
            "\n",
            "EPOCH: 7\n"
          ]
        },
        {
          "name": "stderr",
          "output_type": "stream",
          "text": [
            "Loss=0.8858718872070312 Batch_id=97 Accuracy=65.90: 100%|██████████| 98/98 [00:59<00:00,  1.66it/s]\n"
          ]
        },
        {
          "name": "stdout",
          "output_type": "stream",
          "text": [
            "\n",
            "Test set: Average loss: 0.0024, Accuracy: 5616/10000 (56.16%)\n",
            "\n",
            "EPOCH: 8\n"
          ]
        },
        {
          "name": "stderr",
          "output_type": "stream",
          "text": [
            "Loss=0.9253241419792175 Batch_id=97 Accuracy=67.12: 100%|██████████| 98/98 [00:59<00:00,  1.65it/s]\n"
          ]
        },
        {
          "name": "stdout",
          "output_type": "stream",
          "text": [
            "\n",
            "Test set: Average loss: 0.0018, Accuracy: 6925/10000 (69.25%)\n",
            "\n",
            "EPOCH: 9\n"
          ]
        },
        {
          "name": "stderr",
          "output_type": "stream",
          "text": [
            "Loss=1.0201915502548218 Batch_id=97 Accuracy=67.70: 100%|██████████| 98/98 [00:59<00:00,  1.65it/s]\n"
          ]
        },
        {
          "name": "stdout",
          "output_type": "stream",
          "text": [
            "\n",
            "Test set: Average loss: 0.0019, Accuracy: 6650/10000 (66.50%)\n",
            "\n",
            "EPOCH: 10\n"
          ]
        },
        {
          "name": "stderr",
          "output_type": "stream",
          "text": [
            "Loss=0.9948711395263672 Batch_id=97 Accuracy=67.97: 100%|██████████| 98/98 [00:59<00:00,  1.65it/s]\n"
          ]
        },
        {
          "name": "stdout",
          "output_type": "stream",
          "text": [
            "\n",
            "Test set: Average loss: 0.0022, Accuracy: 6248/10000 (62.48%)\n",
            "\n",
            "EPOCH: 11\n"
          ]
        },
        {
          "name": "stderr",
          "output_type": "stream",
          "text": [
            "Loss=0.9139022827148438 Batch_id=97 Accuracy=68.53: 100%|██████████| 98/98 [00:59<00:00,  1.64it/s]\n"
          ]
        },
        {
          "name": "stdout",
          "output_type": "stream",
          "text": [
            "\n",
            "Test set: Average loss: 0.0021, Accuracy: 6468/10000 (64.68%)\n",
            "\n",
            "EPOCH: 12\n"
          ]
        },
        {
          "name": "stderr",
          "output_type": "stream",
          "text": [
            "Loss=0.8752293586730957 Batch_id=97 Accuracy=69.08: 100%|██████████| 98/98 [00:59<00:00,  1.65it/s]\n"
          ]
        },
        {
          "name": "stdout",
          "output_type": "stream",
          "text": [
            "\n",
            "Test set: Average loss: 0.0017, Accuracy: 7131/10000 (71.31%)\n",
            "\n",
            "EPOCH: 13\n"
          ]
        },
        {
          "name": "stderr",
          "output_type": "stream",
          "text": [
            "Loss=0.744451642036438 Batch_id=97 Accuracy=69.10: 100%|██████████| 98/98 [00:59<00:00,  1.65it/s]\n"
          ]
        },
        {
          "name": "stdout",
          "output_type": "stream",
          "text": [
            "\n",
            "Test set: Average loss: 0.0018, Accuracy: 6842/10000 (68.42%)\n",
            "\n",
            "EPOCH: 14\n"
          ]
        },
        {
          "name": "stderr",
          "output_type": "stream",
          "text": [
            "Loss=0.8103665709495544 Batch_id=97 Accuracy=70.62: 100%|██████████| 98/98 [00:59<00:00,  1.65it/s]\n"
          ]
        },
        {
          "name": "stdout",
          "output_type": "stream",
          "text": [
            "\n",
            "Test set: Average loss: 0.0024, Accuracy: 5935/10000 (59.35%)\n",
            "\n",
            "EPOCH: 15\n"
          ]
        },
        {
          "name": "stderr",
          "output_type": "stream",
          "text": [
            "Loss=0.8121353983879089 Batch_id=97 Accuracy=70.79: 100%|██████████| 98/98 [00:59<00:00,  1.65it/s]\n"
          ]
        },
        {
          "name": "stdout",
          "output_type": "stream",
          "text": [
            "\n",
            "Test set: Average loss: 0.0019, Accuracy: 6947/10000 (69.47%)\n",
            "\n",
            "EPOCH: 16\n"
          ]
        },
        {
          "name": "stderr",
          "output_type": "stream",
          "text": [
            "Loss=0.7335755228996277 Batch_id=97 Accuracy=71.42: 100%|██████████| 98/98 [00:59<00:00,  1.65it/s]\n"
          ]
        },
        {
          "name": "stdout",
          "output_type": "stream",
          "text": [
            "\n",
            "Test set: Average loss: 0.0017, Accuracy: 7083/10000 (70.83%)\n",
            "\n",
            "EPOCH: 17\n"
          ]
        },
        {
          "name": "stderr",
          "output_type": "stream",
          "text": [
            "Loss=0.8949453234672546 Batch_id=97 Accuracy=71.80: 100%|██████████| 98/98 [00:59<00:00,  1.65it/s]\n"
          ]
        },
        {
          "name": "stdout",
          "output_type": "stream",
          "text": [
            "\n",
            "Test set: Average loss: 0.0020, Accuracy: 6436/10000 (64.36%)\n",
            "\n",
            "EPOCH: 18\n"
          ]
        },
        {
          "name": "stderr",
          "output_type": "stream",
          "text": [
            "Loss=0.7117620706558228 Batch_id=97 Accuracy=72.62: 100%|██████████| 98/98 [00:59<00:00,  1.65it/s]\n"
          ]
        },
        {
          "name": "stdout",
          "output_type": "stream",
          "text": [
            "\n",
            "Test set: Average loss: 0.0019, Accuracy: 6744/10000 (67.44%)\n",
            "\n",
            "EPOCH: 19\n"
          ]
        },
        {
          "name": "stderr",
          "output_type": "stream",
          "text": [
            "Loss=0.7823443412780762 Batch_id=97 Accuracy=72.94: 100%|██████████| 98/98 [00:59<00:00,  1.65it/s]\n"
          ]
        },
        {
          "name": "stdout",
          "output_type": "stream",
          "text": [
            "\n",
            "Test set: Average loss: 0.0015, Accuracy: 7489/10000 (74.89%)\n",
            "\n",
            "EPOCH: 20\n"
          ]
        },
        {
          "name": "stderr",
          "output_type": "stream",
          "text": [
            "Loss=0.7997847199440002 Batch_id=97 Accuracy=73.89: 100%|██████████| 98/98 [00:59<00:00,  1.65it/s]\n"
          ]
        },
        {
          "name": "stdout",
          "output_type": "stream",
          "text": [
            "\n",
            "Test set: Average loss: 0.0014, Accuracy: 7562/10000 (75.62%)\n",
            "\n",
            "EPOCH: 21\n"
          ]
        },
        {
          "name": "stderr",
          "output_type": "stream",
          "text": [
            "Loss=0.8348914384841919 Batch_id=97 Accuracy=75.11: 100%|██████████| 98/98 [00:59<00:00,  1.65it/s]\n"
          ]
        },
        {
          "name": "stdout",
          "output_type": "stream",
          "text": [
            "\n",
            "Test set: Average loss: 0.0015, Accuracy: 7349/10000 (73.49%)\n",
            "\n",
            "EPOCH: 22\n"
          ]
        },
        {
          "name": "stderr",
          "output_type": "stream",
          "text": [
            "Loss=0.6712363958358765 Batch_id=97 Accuracy=75.77: 100%|██████████| 98/98 [00:59<00:00,  1.65it/s]\n"
          ]
        },
        {
          "name": "stdout",
          "output_type": "stream",
          "text": [
            "\n",
            "Test set: Average loss: 0.0012, Accuracy: 8077/10000 (80.77%)\n",
            "\n",
            "EPOCH: 23\n"
          ]
        },
        {
          "name": "stderr",
          "output_type": "stream",
          "text": [
            "Loss=0.5587685704231262 Batch_id=97 Accuracy=77.41: 100%|██████████| 98/98 [00:59<00:00,  1.64it/s]\n"
          ]
        },
        {
          "name": "stdout",
          "output_type": "stream",
          "text": [
            "\n",
            "Test set: Average loss: 0.0011, Accuracy: 8120/10000 (81.20%)\n",
            "\n",
            "EPOCH: 24\n"
          ]
        },
        {
          "name": "stderr",
          "output_type": "stream",
          "text": [
            "Loss=0.5845258235931396 Batch_id=97 Accuracy=79.38: 100%|██████████| 98/98 [00:59<00:00,  1.65it/s]\n"
          ]
        },
        {
          "name": "stdout",
          "output_type": "stream",
          "text": [
            "generating mis-classified images for epoch 24\n",
            "generating mis-classified images for epoch 24\n",
            "generating mis-classified images for epoch 24\n",
            "generating mis-classified images for epoch 24\n",
            "generating mis-classified images for epoch 24\n",
            "generating mis-classified images for epoch 24\n",
            "generating mis-classified images for epoch 24\n",
            "generating mis-classified images for epoch 24\n",
            "generating mis-classified images for epoch 24\n",
            "generating mis-classified images for epoch 24\n",
            "\n",
            "Test set: Average loss: 0.0009, Accuracy: 8512/10000 (85.12%)\n",
            "\n"
          ]
        }
      ],
      "source": [
        "EPOCH = 24\n",
        "optimizer=torch.optim.SGD(net.parameters(), lr=start_lr, momentum=0.90, weight_decay=0.005)\n",
        "scheduler = torch.optim.lr_scheduler.OneCycleLR(optimizer=optimizer, max_lr=max_lr, steps_per_epoch=len(train_loader),\n",
        "                                                epochs=EPOCH, pct_start=5/EPOCH, div_factor=10, three_phase=False, final_div_factor=10, anneal_strategy='linear')\n",
        "\n",
        "lr_hist = executer_instance.execute_training(net, optimizer=optimizer, scheduler=scheduler, NUM_EPOCH=24)"
      ]
    }
  ],
  "metadata": {
    "accelerator": "GPU",
    "colab": {
      "provenance": []
    },
    "gpuClass": "standard",
    "kernelspec": {
      "display_name": "Python 3",
      "name": "python3"
    },
    "language_info": {
      "name": "python"
    },
    "widgets": {
      "application/vnd.jupyter.widget-state+json": {
        "49d1691513df41c1a5cb44cd07306b26": {
          "model_module": "@jupyter-widgets/base",
          "model_module_version": "1.2.0",
          "model_name": "LayoutModel",
          "state": {
            "_model_module": "@jupyter-widgets/base",
            "_model_module_version": "1.2.0",
            "_model_name": "LayoutModel",
            "_view_count": null,
            "_view_module": "@jupyter-widgets/base",
            "_view_module_version": "1.2.0",
            "_view_name": "LayoutView",
            "align_content": null,
            "align_items": null,
            "align_self": null,
            "border": null,
            "bottom": null,
            "display": null,
            "flex": null,
            "flex_flow": null,
            "grid_area": null,
            "grid_auto_columns": null,
            "grid_auto_flow": null,
            "grid_auto_rows": null,
            "grid_column": null,
            "grid_gap": null,
            "grid_row": null,
            "grid_template_areas": null,
            "grid_template_columns": null,
            "grid_template_rows": null,
            "height": null,
            "justify_content": null,
            "justify_items": null,
            "left": null,
            "margin": null,
            "max_height": null,
            "max_width": null,
            "min_height": null,
            "min_width": null,
            "object_fit": null,
            "object_position": null,
            "order": null,
            "overflow": null,
            "overflow_x": null,
            "overflow_y": null,
            "padding": null,
            "right": null,
            "top": null,
            "visibility": null,
            "width": null
          }
        },
        "4c74120d8e2045259fdda1367f6a2d70": {
          "model_module": "@jupyter-widgets/controls",
          "model_module_version": "1.5.0",
          "model_name": "DescriptionStyleModel",
          "state": {
            "_model_module": "@jupyter-widgets/controls",
            "_model_module_version": "1.5.0",
            "_model_name": "DescriptionStyleModel",
            "_view_count": null,
            "_view_module": "@jupyter-widgets/base",
            "_view_module_version": "1.2.0",
            "_view_name": "StyleView",
            "description_width": ""
          }
        },
        "515607228e674415ab2f7c4c3a96c8ce": {
          "model_module": "@jupyter-widgets/controls",
          "model_module_version": "1.5.0",
          "model_name": "FloatProgressModel",
          "state": {
            "_dom_classes": [],
            "_model_module": "@jupyter-widgets/controls",
            "_model_module_version": "1.5.0",
            "_model_name": "FloatProgressModel",
            "_view_count": null,
            "_view_module": "@jupyter-widgets/controls",
            "_view_module_version": "1.5.0",
            "_view_name": "ProgressView",
            "bar_style": "success",
            "description": "",
            "description_tooltip": null,
            "layout": "IPY_MODEL_93b5bead5b8e47e68c97c46cf400bf28",
            "max": 100,
            "min": 0,
            "orientation": "horizontal",
            "style": "IPY_MODEL_f3e9c50e5c00459d88aa722af922f3c4",
            "value": 100
          }
        },
        "63219dd57561436db0a38b65fa1604e5": {
          "model_module": "@jupyter-widgets/controls",
          "model_module_version": "1.5.0",
          "model_name": "DescriptionStyleModel",
          "state": {
            "_model_module": "@jupyter-widgets/controls",
            "_model_module_version": "1.5.0",
            "_model_name": "DescriptionStyleModel",
            "_view_count": null,
            "_view_module": "@jupyter-widgets/base",
            "_view_module_version": "1.2.0",
            "_view_name": "StyleView",
            "description_width": ""
          }
        },
        "6a92e598b5a04377ba9d08fe1260c432": {
          "model_module": "@jupyter-widgets/controls",
          "model_module_version": "1.5.0",
          "model_name": "HTMLModel",
          "state": {
            "_dom_classes": [],
            "_model_module": "@jupyter-widgets/controls",
            "_model_module_version": "1.5.0",
            "_model_name": "HTMLModel",
            "_view_count": null,
            "_view_module": "@jupyter-widgets/controls",
            "_view_module_version": "1.5.0",
            "_view_name": "HTMLView",
            "description": "",
            "description_tooltip": null,
            "layout": "IPY_MODEL_49d1691513df41c1a5cb44cd07306b26",
            "placeholder": "​",
            "style": "IPY_MODEL_63219dd57561436db0a38b65fa1604e5",
            "value": " 100/100 [01:01&lt;00:00,  1.93it/s]"
          }
        },
        "78c213b0a7b2407784801980ee83ce03": {
          "model_module": "@jupyter-widgets/base",
          "model_module_version": "1.2.0",
          "model_name": "LayoutModel",
          "state": {
            "_model_module": "@jupyter-widgets/base",
            "_model_module_version": "1.2.0",
            "_model_name": "LayoutModel",
            "_view_count": null,
            "_view_module": "@jupyter-widgets/base",
            "_view_module_version": "1.2.0",
            "_view_name": "LayoutView",
            "align_content": null,
            "align_items": null,
            "align_self": null,
            "border": null,
            "bottom": null,
            "display": null,
            "flex": null,
            "flex_flow": null,
            "grid_area": null,
            "grid_auto_columns": null,
            "grid_auto_flow": null,
            "grid_auto_rows": null,
            "grid_column": null,
            "grid_gap": null,
            "grid_row": null,
            "grid_template_areas": null,
            "grid_template_columns": null,
            "grid_template_rows": null,
            "height": null,
            "justify_content": null,
            "justify_items": null,
            "left": null,
            "margin": null,
            "max_height": null,
            "max_width": null,
            "min_height": null,
            "min_width": null,
            "object_fit": null,
            "object_position": null,
            "order": null,
            "overflow": null,
            "overflow_x": null,
            "overflow_y": null,
            "padding": null,
            "right": null,
            "top": null,
            "visibility": null,
            "width": null
          }
        },
        "85e8c1cec6bf4e81ba1f3f64bf9575ec": {
          "model_module": "@jupyter-widgets/controls",
          "model_module_version": "1.5.0",
          "model_name": "HTMLModel",
          "state": {
            "_dom_classes": [],
            "_model_module": "@jupyter-widgets/controls",
            "_model_module_version": "1.5.0",
            "_model_name": "HTMLModel",
            "_view_count": null,
            "_view_module": "@jupyter-widgets/controls",
            "_view_module_version": "1.5.0",
            "_view_name": "HTMLView",
            "description": "",
            "description_tooltip": null,
            "layout": "IPY_MODEL_78c213b0a7b2407784801980ee83ce03",
            "placeholder": "​",
            "style": "IPY_MODEL_4c74120d8e2045259fdda1367f6a2d70",
            "value": "100%"
          }
        },
        "93b5bead5b8e47e68c97c46cf400bf28": {
          "model_module": "@jupyter-widgets/base",
          "model_module_version": "1.2.0",
          "model_name": "LayoutModel",
          "state": {
            "_model_module": "@jupyter-widgets/base",
            "_model_module_version": "1.2.0",
            "_model_name": "LayoutModel",
            "_view_count": null,
            "_view_module": "@jupyter-widgets/base",
            "_view_module_version": "1.2.0",
            "_view_name": "LayoutView",
            "align_content": null,
            "align_items": null,
            "align_self": null,
            "border": null,
            "bottom": null,
            "display": null,
            "flex": null,
            "flex_flow": null,
            "grid_area": null,
            "grid_auto_columns": null,
            "grid_auto_flow": null,
            "grid_auto_rows": null,
            "grid_column": null,
            "grid_gap": null,
            "grid_row": null,
            "grid_template_areas": null,
            "grid_template_columns": null,
            "grid_template_rows": null,
            "height": null,
            "justify_content": null,
            "justify_items": null,
            "left": null,
            "margin": null,
            "max_height": null,
            "max_width": null,
            "min_height": null,
            "min_width": null,
            "object_fit": null,
            "object_position": null,
            "order": null,
            "overflow": null,
            "overflow_x": null,
            "overflow_y": null,
            "padding": null,
            "right": null,
            "top": null,
            "visibility": null,
            "width": null
          }
        },
        "c4511320af484693bcf8438ee81aa495": {
          "model_module": "@jupyter-widgets/base",
          "model_module_version": "1.2.0",
          "model_name": "LayoutModel",
          "state": {
            "_model_module": "@jupyter-widgets/base",
            "_model_module_version": "1.2.0",
            "_model_name": "LayoutModel",
            "_view_count": null,
            "_view_module": "@jupyter-widgets/base",
            "_view_module_version": "1.2.0",
            "_view_name": "LayoutView",
            "align_content": null,
            "align_items": null,
            "align_self": null,
            "border": null,
            "bottom": null,
            "display": null,
            "flex": null,
            "flex_flow": null,
            "grid_area": null,
            "grid_auto_columns": null,
            "grid_auto_flow": null,
            "grid_auto_rows": null,
            "grid_column": null,
            "grid_gap": null,
            "grid_row": null,
            "grid_template_areas": null,
            "grid_template_columns": null,
            "grid_template_rows": null,
            "height": null,
            "justify_content": null,
            "justify_items": null,
            "left": null,
            "margin": null,
            "max_height": null,
            "max_width": null,
            "min_height": null,
            "min_width": null,
            "object_fit": null,
            "object_position": null,
            "order": null,
            "overflow": null,
            "overflow_x": null,
            "overflow_y": null,
            "padding": null,
            "right": null,
            "top": null,
            "visibility": null,
            "width": null
          }
        },
        "c72006d6b72a41fbb8beb92fee0b9182": {
          "model_module": "@jupyter-widgets/controls",
          "model_module_version": "1.5.0",
          "model_name": "HBoxModel",
          "state": {
            "_dom_classes": [],
            "_model_module": "@jupyter-widgets/controls",
            "_model_module_version": "1.5.0",
            "_model_name": "HBoxModel",
            "_view_count": null,
            "_view_module": "@jupyter-widgets/controls",
            "_view_module_version": "1.5.0",
            "_view_name": "HBoxView",
            "box_style": "",
            "children": [
              "IPY_MODEL_85e8c1cec6bf4e81ba1f3f64bf9575ec",
              "IPY_MODEL_515607228e674415ab2f7c4c3a96c8ce",
              "IPY_MODEL_6a92e598b5a04377ba9d08fe1260c432"
            ],
            "layout": "IPY_MODEL_c4511320af484693bcf8438ee81aa495"
          }
        },
        "f3e9c50e5c00459d88aa722af922f3c4": {
          "model_module": "@jupyter-widgets/controls",
          "model_module_version": "1.5.0",
          "model_name": "ProgressStyleModel",
          "state": {
            "_model_module": "@jupyter-widgets/controls",
            "_model_module_version": "1.5.0",
            "_model_name": "ProgressStyleModel",
            "_view_count": null,
            "_view_module": "@jupyter-widgets/base",
            "_view_module_version": "1.2.0",
            "_view_name": "StyleView",
            "bar_color": null,
            "description_width": ""
          }
        }
      }
    }
  },
  "nbformat": 4,
  "nbformat_minor": 0
}
